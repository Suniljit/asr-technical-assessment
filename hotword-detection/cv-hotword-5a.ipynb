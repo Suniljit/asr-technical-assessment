{
 "cells": [
  {
   "cell_type": "markdown",
   "metadata": {},
   "source": [
    "# Task 5A\n",
    "Generate a .txt file containing the hot words. "
   ]
  },
  {
   "cell_type": "code",
   "execution_count": null,
   "metadata": {},
   "outputs": [],
   "source": [
    "import pandas as pd"
   ]
  },
  {
   "cell_type": "code",
   "execution_count": null,
   "metadata": {},
   "outputs": [],
   "source": [
    "# Load the transcribed data\n",
    "transcribed_data_path = '../task-4/transcribed_data-ft.csv'\n",
    "transcribed_data = pd.read_csv(transcribed_data_path)\n",
    "\n",
    "# Define hot words to be detected\n",
    "hot_words = [\"be careful\", \"destroy\", \"stranger\"]\n",
    "\n",
    "# Detect filenames with hot words\n",
    "detected_filenames = transcribed_data[transcribed_data['generated_text']\n",
    "                                      .str.contains('|'.join(hot_words), case=False, na=False)]['filename']\n",
    "\n",
    "# Save the detected filenames into detected.txt\n",
    "detected_output_path = '../hotword-detection/detected.txt'\n",
    "detected_filenames.to_csv(detected_output_path, index=False, header=False)"
   ]
  },
  {
   "cell_type": "code",
   "execution_count": null,
   "metadata": {},
   "outputs": [],
   "source": []
  }
 ],
 "metadata": {
  "kernelspec": {
   "display_name": "htx",
   "language": "python",
   "name": "python3"
  },
  "language_info": {
   "codemirror_mode": {
    "name": "ipython",
    "version": 3
   },
   "file_extension": ".py",
   "mimetype": "text/x-python",
   "name": "python",
   "nbconvert_exporter": "python",
   "pygments_lexer": "ipython3",
   "version": "3.12.7"
  }
 },
 "nbformat": 4,
 "nbformat_minor": 2
}
